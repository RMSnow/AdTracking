{
 "cells": [
  {
   "cell_type": "markdown",
   "metadata": {
    "collapsed": true
   },
   "source": [
    "# 初始尝试（作废）"
   ]
  },
  {
   "cell_type": "code",
   "execution_count": 1,
   "metadata": {},
   "outputs": [],
   "source": [
    "import pandas as pd\n",
    "import numpy as np\n",
    "\n",
    "path = 'me/data/'\n",
    "df = pd.read_csv(path + 'test.csv')"
   ]
  },
  {
   "cell_type": "code",
   "execution_count": 4,
   "metadata": {},
   "outputs": [],
   "source": [
    "df['hour'] = pd.to_datetime(df.click_time).dt.hour.astype('uint8')\n",
    "df['day'] = pd.to_datetime(df.click_time).dt.day.astype('uint8')"
   ]
  },
  {
   "cell_type": "code",
   "execution_count": 12,
   "metadata": {},
   "outputs": [
    {
     "data": {
      "text/plain": [
       "array([ 4,  5,  6,  9, 10, 11, 13, 14, 15], dtype=uint64)"
      ]
     },
     "execution_count": 12,
     "metadata": {},
     "output_type": "execute_result"
    }
   ],
   "source": [
    "df['hour'].unique()"
   ]
  },
  {
   "cell_type": "markdown",
   "metadata": {},
   "source": [
    ""
   ]
  },
  {
   "cell_type": "code",
   "execution_count": 2,
   "metadata": {},
   "outputs": [],
   "source": [
    ""
   ]
  },
  {
   "cell_type": "code",
   "execution_count": 2,
   "metadata": {},
   "outputs": [],
   "source": [
    ""
   ]
  },
  {
   "cell_type": "markdown",
   "metadata": {},
   "source": [
    "# Pearson系数"
   ]
  },
  {
   "cell_type": "code",
   "execution_count": 1,
   "metadata": {},
   "outputs": [],
   "source": [
    "# encoding:utf-8\n",
    "\n",
    "import pandas as pd\n",
    "import numpy as np\n",
    "from sklearn.preprocessing import PolynomialFeatures\n",
    "import matplotlib.pyplot as plt\n",
    "import time"
   ]
  },
  {
   "cell_type": "code",
   "execution_count": 3,
   "metadata": {},
   "outputs": [
    {
     "name": "stdout",
     "output_type": "stream",
     "text": [
      "---------------源feature---------------\n   click_id      ip  app  device  os  channel           click_time\n0         0    5744    9       1   3      107  2017-11-10 04:00:00\n1         1  119901    9       1   3      466  2017-11-10 04:00:00\n2         2   72287   21       1  19      128  2017-11-10 04:00:00\n3         3   78477   15       1  13      111  2017-11-10 04:00:00\n4         4  123080   12       1  13      328  2017-11-10 04:00:00\n\n---------------源feature相关性---------------\n"
     ]
    },
    {
     "name": "stdout",
     "output_type": "stream",
     "text": [
      "\n"
     ]
    },
    {
     "name": "stdout",
     "output_type": "stream",
     "text": [
      "---------------组合basic feature---------------\n   click_id      ip  app  device  os  channel           click_time     ip_app  \\\n0         0    5744    9       1   3      107  2017-11-10 04:00:00    51696.0   \n1         1  119901    9       1   3      466  2017-11-10 04:00:00  1079109.0   \n2         2   72287   21       1  19      128  2017-11-10 04:00:00  1518027.0   \n3         3   78477   15       1  13      111  2017-11-10 04:00:00  1177155.0   \n4         4  123080   12       1  13      328  2017-11-10 04:00:00  1476960.0   \n\n   ip_device      ip_os  ip_channel  app_device  app_os  app_channel  \\\n0     5744.0    17232.0    614608.0         9.0    27.0        963.0   \n1   119901.0   359703.0  55873866.0         9.0    27.0       4194.0   \n2    72287.0  1373453.0   9252736.0        21.0   399.0       2688.0   \n3    78477.0  1020201.0   8710947.0        15.0   195.0       1665.0   \n4   123080.0  1600040.0  40370240.0        12.0   156.0       3936.0   \n\n   device_os  device_channel  os_channel  \n0        3.0           107.0       321.0  \n1        3.0           466.0      1398.0  \n2       19.0           128.0      2432.0  \n3       13.0           111.0      1443.0  \n4       13.0           328.0      4264.0  \n\n---------------新feature相关性---------------\n"
     ]
    },
    {
     "name": "stdout",
     "output_type": "stream",
     "text": [
      "---------------添加temporal feature---------------\n   click_id      ip  app  device  os  channel           click_time     ip_app  \\\n0         0    5744    9       1   3      107  2017-11-10 04:00:00    51696.0   \n1         1  119901    9       1   3      466  2017-11-10 04:00:00  1079109.0   \n2         2   72287   21       1  19      128  2017-11-10 04:00:00  1518027.0   \n3         3   78477   15       1  13      111  2017-11-10 04:00:00  1177155.0   \n4         4  123080   12       1  13      328  2017-11-10 04:00:00  1476960.0   \n\n   ip_device      ip_os  ip_channel  app_device  app_os  app_channel  \\\n0     5744.0    17232.0    614608.0         9.0    27.0        963.0   \n1   119901.0   359703.0  55873866.0         9.0    27.0       4194.0   \n2    72287.0  1373453.0   9252736.0        21.0   399.0       2688.0   \n3    78477.0  1020201.0   8710947.0        15.0   195.0       1665.0   \n4   123080.0  1600040.0  40370240.0        12.0   156.0       3936.0   \n\n   device_os  device_channel  os_channel  hour  \n0        3.0           107.0       321.0     4  \n1        3.0           466.0      1398.0     4  \n2       19.0           128.0      2432.0     4  \n3       13.0           111.0      1443.0     4  \n4       13.0           328.0      4264.0     4  \n\n---------------新feature相关性---------------\n"
     ]
    },
    {
     "name": "stdout",
     "output_type": "stream",
     "text": [
      "\n--------------------\nTime: 65.79459404945374s\n"
     ]
    }
   ],
   "source": [
    "path = 'me/data/'\n",
    "df = pd.read_csv(path + 'test.csv')\n",
    "\n",
    "start_time = time.time()\n",
    "\n",
    "print(\"---------------源feature---------------\")\n",
    "print(df.head())\n",
    "print()\n",
    "print(\"---------------源feature相关性---------------\")\n",
    "df.corr().to_csv(path + 'corr/corr_basic.csv')\n",
    "# print(df.corr())\n",
    "print()\n",
    "\n",
    "basic_list = ['ip', 'app', 'device', 'os', 'channel']\n",
    "basic_df = df[basic_list]\n",
    "basic_array = basic_df.as_matrix()\n",
    "\n",
    "poly = PolynomialFeatures(2, interaction_only=True)\n",
    "extended_array = poly.fit_transform(basic_array)\n",
    "\n",
    "new_feature_name = []\n",
    "# 编号为1，2，3，4，5\n",
    "# 则组合顺序为：1., 1,2,3,4,5, 12,13,14,15, 23,24,25, 34,35, 45\n",
    "# 索引：从6-15\n",
    "for i in range(len(basic_list)):\n",
    "    for j in range(i + 1, len(basic_list)):\n",
    "        new_feature_name.append(basic_list[i] + '_' + basic_list[j])\n",
    "\n",
    "new_data = []\n",
    "for i in range(6, 16):\n",
    "    new_data.append(extended_array[:, i])\n",
    "\n",
    "for i in range(10):\n",
    "    df[new_feature_name[i]] = new_data[i]\n",
    "\n",
    "print(\"---------------组合basic feature---------------\")\n",
    "print(df.head())\n",
    "print()\n",
    "print(\"---------------新feature相关性---------------\")\n",
    "df.corr().to_csv(path + 'corr/corr_extended.csv')\n",
    "# print(df.corr())\n",
    "\n",
    "df['hour'] = pd.to_datetime(df.click_time).dt.hour.astype('uint8')\n",
    "# df['day'] = pd.to_datetime(df.click_time).dt.day.astype('uint8')\n",
    "# df['wday'] = pd.to_datetime(df.click_time).dt.dayofweek.astype('uint8')\n",
    "\n",
    "print(\"---------------添加temporal feature---------------\")\n",
    "print(df.head())\n",
    "print()\n",
    "print(\"---------------新feature相关性---------------\")\n",
    "correlations = df.corr()\n",
    "correlations.to_csv(path + 'corr/corr_temporal.csv')\n",
    "# print(correlations)\n",
    "\n",
    "print()\n",
    "# print(\"---------------保存extended_df---------------\")\n",
    "# df.to_csv(path + 'test_extended')\n",
    "print(\"--------------------\")\n",
    "print(\"Time: \" + str(time.time() - start_time) + \"s\")"
   ]
  },
  {
   "cell_type": "code",
   "execution_count": 72,
   "metadata": {},
   "outputs": [
    {
     "data": {
      "image/png": "[encoded data removed]",
      "text/plain": [
       "<matplotlib.figure.Figure at 0x136bc5978>"
      ]
     },
     "metadata": {},
     "output_type": "display_data"
    }
   ],
   "source": [
    "import seaborn as sns\n",
    "\n",
    "names = correlations.index.tolist()\n",
    "f, ax = plt.subplots(figsize = (10, 8))\n",
    "\n",
    "# method 1\n",
    "# cax = ax.matshow(correlations, vmin=-1, vmax=1)  # 绘制热力图，从-1到1\n",
    "# fig.colorbar(cax)  # 将matshow生成热力图设置为颜色渐变条\n",
    "\n",
    "# method 2\n",
    "cmap = sns.cubehelix_palette(start = 1.5, rot = 3, gamma=0.3, as_cmap = True)\n",
    "sns.heatmap(correlations, vmax=1, vmin=-1, cmap=cmap)\n",
    "\n",
    "ticks = np.arange(0, len(names), 1)  # 生成0-9，步长为1\n",
    "ax.set_xticks(ticks)  # 生成刻度\n",
    "ax.set_yticks(ticks)\n",
    "ax.set_xticklabels(names, rotation='vertical')  # 生成x轴标签\n",
    "ax.set_yticklabels(names)\n",
    "\n",
    "plt.savefig(path + 'corr/corr_all.png')\n",
    "plt.show()"
   ]
  },
  {
   "cell_type": "code",
   "execution_count": 76,
   "metadata": {},
   "outputs": [
    {
     "data": {
      "image/png": "[encoded data removed]",
      "text/plain": [
       "<matplotlib.figure.Figure at 0x11a0ef4e0>"
      ]
     },
     "metadata": {},
     "output_type": "display_data"
    }
   ],
   "source": [
    "import seaborn as sns\n",
    "\n",
    "names = correlations.index.tolist()\n",
    "f, ax = plt.subplots(figsize = (10, 8))\n",
    "\n",
    "# method 1\n",
    "# cax = ax.matshow(correlations, vmin=-1, vmax=1)  # 绘制热力图，从-1到1\n",
    "# fig.colorbar(cax)  # 将matshow生成热力图设置为颜色渐变条\n",
    "\n",
    "# method 2\n",
    "cmap = sns.cubehelix_palette(start = 1.5, rot = 3, gamma=0.3, as_cmap = True)\n",
    "sns.heatmap(correlations, vmax=1, vmin=-1, \n",
    "            cmap=cmap, mask=correlations<0.7, annot=True)\n",
    "\n",
    "ticks = np.arange(0, len(names), 1)  # 生成0-9，步长为1\n",
    "ax.set_xticks(ticks)  # 生成刻度\n",
    "ax.set_yticks(ticks)\n",
    "ax.set_xticklabels(names, rotation='vertical')  # 生成x轴标签\n",
    "ax.set_yticklabels(names)\n",
    "\n",
    "plt.savefig(path + 'corr/corr_mask0.7.png')\n",
    "plt.show()"
   ]
  },
  {
   "cell_type": "markdown",
   "metadata": {},
   "source": [
    "# 互信息"
   ]
  },
  {
   "cell_type": "code",
   "execution_count": 2,
   "metadata": {},
   "outputs": [
    {
     "name": "stdout",
     "output_type": "stream",
     "text": [
      "\n--------------------\nTime: 25.37750005722046s\n"
     ]
    }
   ],
   "source": [
    "import pandas as pd\n",
    "import numpy as np\n",
    "from sklearn.preprocessing import PolynomialFeatures\n",
    "import matplotlib.pyplot as plt\n",
    "import time\n",
    "\n",
    "path = 'me/data/'\n",
    "df = pd.read_csv(path + 'test.csv')\n",
    "\n",
    "start_time = time.time()\n",
    "\n",
    "basic_list = ['ip', 'app', 'device', 'os', 'channel']\n",
    "basic_df = df[basic_list]\n",
    "basic_array = basic_df.as_matrix()\n",
    "\n",
    "poly = PolynomialFeatures(2, interaction_only=True)\n",
    "extended_array = poly.fit_transform(basic_array)\n",
    "\n",
    "new_feature_name = []\n",
    "# 编号为1，2，3，4，5\n",
    "# 则组合顺序为：1., 1,2,3,4,5, 12,13,14,15, 23,24,25, 34,35, 45\n",
    "# 索引：从6-15\n",
    "for i in range(len(basic_list)):\n",
    "    for j in range(i + 1, len(basic_list)):\n",
    "        new_feature_name.append(basic_list[i] + '_' + basic_list[j])\n",
    "\n",
    "new_data = []\n",
    "for i in range(6, 16):\n",
    "    new_data.append(extended_array[:, i])\n",
    "\n",
    "for i in range(10):\n",
    "    df[new_feature_name[i]] = new_data[i]\n",
    "\n",
    "df['hour'] = pd.to_datetime(df.click_time).dt.hour.astype('uint8')\n",
    "\n",
    "print()\n",
    "# print(\"---------------保存extended_df---------------\")\n",
    "# df.to_csv(path + 'test_extended')\n",
    "print(\"--------------------\")\n",
    "print(\"Time: \" + str(time.time() - start_time) + \"s\")"
   ]
  },
  {
   "cell_type": "code",
   "execution_count": 4,
   "metadata": {},
   "outputs": [],
   "source": [
    "names = df.columns.values.tolist()\n",
    "names.remove('click_id')\n",
    "names.remove('click_time')\n",
    "feaures_sum = len(names)"
   ]
  },
  {
   "cell_type": "code",
   "execution_count": 14,
   "metadata": {},
   "outputs": [
    {
     "name": "stdout",
     "output_type": "stream",
     "text": [
      "i = 0\ni = 1\n"
     ]
    },
    {
     "name": "stdout",
     "output_type": "stream",
     "text": [
      "\tcorr[1,0] = 0.169578\n\tj = 0, Time: 15.611579895019531s\ni = 2\n"
     ]
    },
    {
     "name": "stdout",
     "output_type": "stream",
     "text": [
      "\tcorr[2,0] = 0.102875\n\tj = 0, Time: 27.487879037857056s\n"
     ]
    },
    {
     "name": "stdout",
     "output_type": "stream",
     "text": [
      "\tcorr[2,1] = 0.122814\n\tj = 1, Time: 34.80510091781616s\ni = 3\n"
     ]
    },
    {
     "name": "stdout",
     "output_type": "stream",
     "text": [
      "\tcorr[3,0] = 0.536187\n\tj = 0, Time: 50.06121587753296s\n"
     ]
    },
    {
     "name": "stdout",
     "output_type": "stream",
     "text": [
      "\tcorr[3,1] = 0.113313\n\tj = 1, Time: 61.49131989479065s\n"
     ]
    },
    {
     "name": "stdout",
     "output_type": "stream",
     "text": [
      "\tcorr[3,2] = 0.135806\n\tj = 2, Time: 69.69774103164673s\ni = 4\n"
     ]
    },
    {
     "name": "stdout",
     "output_type": "stream",
     "text": [
      "\tcorr[4,0] = 0.382353\n\tj = 0, Time: 88.67553901672363s\n"
     ]
    },
    {
     "name": "stdout",
     "output_type": "stream",
     "text": [
      "\tcorr[4,1] = 2.126626\n\tj = 1, Time: 103.28528785705566s\n"
     ]
    },
    {
     "name": "stdout",
     "output_type": "stream",
     "text": [
      "\tcorr[4,2] = 0.121022\n\tj = 2, Time: 115.617182970047s\n"
     ]
    },
    {
     "name": "stdout",
     "output_type": "stream",
     "text": [
      "\tcorr[4,3] = 0.112702\n\tj = 3, Time: 129.67107892036438s\ni = 5\n"
     ]
    },
    {
     "name": "stdout",
     "output_type": "stream",
     "text": [
      "\tcorr[5,0] = 9.710141\n\tj = 0, Time: 151.67908000946045s\n"
     ]
    },
    {
     "name": "stdout",
     "output_type": "stream",
     "text": [
      "\tcorr[5,1] = 2.513700\n\tj = 1, Time: 170.89853191375732s\n"
     ]
    },
    {
     "name": "stdout",
     "output_type": "stream",
     "text": [
      "\tcorr[5,2] = 0.196885\n\tj = 2, Time: 190.62691402435303s\n"
     ]
    },
    {
     "name": "stdout",
     "output_type": "stream",
     "text": [
      "\tcorr[5,3] = 0.834439\n\tj = 3, Time: 213.32339000701904s\n"
     ]
    },
    {
     "name": "stdout",
     "output_type": "stream",
     "text": [
      "\tcorr[5,4] = 2.258999\n\tj = 4, Time: 235.6597719192505s\ni = 6\n"
     ]
    },
    {
     "name": "stdout",
     "output_type": "stream",
     "text": [
      "\tcorr[6,0] = 9.855608\n\tj = 0, Time: 253.9639458656311s\n"
     ]
    },
    {
     "name": "stdout",
     "output_type": "stream",
     "text": [
      "\tcorr[6,1] = 0.270034\n\tj = 1, Time: 272.50543093681335s\n"
     ]
    },
    {
     "name": "stdout",
     "output_type": "stream",
     "text": [
      "\tcorr[6,2] = 0.328795\n\tj = 2, Time: 288.0643529891968s\n"
     ]
    },
    {
     "name": "stdout",
     "output_type": "stream",
     "text": [
      "\tcorr[6,3] = 0.656147\n\tj = 3, Time: 305.7661838531494s\n"
     ]
    },
    {
     "name": "stdout",
     "output_type": "stream",
     "text": [
      "\tcorr[6,4] = 0.484946\n\tj = 4, Time: 327.06664991378784s\n"
     ]
    },
    {
     "name": "stdout",
     "output_type": "stream",
     "text": [
      "\tcorr[6,5] = 9.687423\n\tj = 5, Time: 349.8920338153839s\ni = 7\n"
     ]
    },
    {
     "name": "stdout",
     "output_type": "stream",
     "text": [
      "\tcorr[7,0] = 9.818482\n\tj = 0, Time: 371.43069982528687s\n"
     ]
    },
    {
     "name": "stdout",
     "output_type": "stream",
     "text": [
      "\tcorr[7,1] = 0.548177\n\tj = 1, Time: 394.867830991745s\n"
     ]
    },
    {
     "name": "stdout",
     "output_type": "stream",
     "text": [
      "\tcorr[7,2] = 0.221653\n\tj = 2, Time: 411.7579548358917s\n"
     ]
    },
    {
     "name": "stdout",
     "output_type": "stream",
     "text": [
      "\tcorr[7,3] = 2.825526\n\tj = 3, Time: 430.3241460323334s\n"
     ]
    },
    {
     "name": "stdout",
     "output_type": "stream",
     "text": [
      "\tcorr[7,4] = 1.122831\n\tj = 4, Time: 454.6418879032135s\n"
     ]
    },
    {
     "name": "stdout",
     "output_type": "stream",
     "text": [
      "\tcorr[7,5] = 9.983516\n\tj = 5, Time: 481.1134099960327s\n"
     ]
    },
    {
     "name": "stdout",
     "output_type": "stream",
     "text": [
      "\tcorr[7,6] = 9.854654\n\tj = 6, Time: 502.5602958202362s\ni = 8\n"
     ]
    },
    {
     "name": "stdout",
     "output_type": "stream",
     "text": [
      "\tcorr[8,0] = 9.927253\n\tj = 0, Time: 528.4852049350739s\n"
     ]
    },
    {
     "name": "stdout",
     "output_type": "stream",
     "text": [
      "\tcorr[8,1] = 2.248959\n\tj = 1, Time: 551.0462310314178s\n"
     ]
    },
    {
     "name": "stdout",
     "output_type": "stream",
     "text": [
      "\tcorr[8,2] = 0.218964\n\tj = 2, Time: 570.9194688796997s\n"
     ]
    },
    {
     "name": "stdout",
     "output_type": "stream",
     "text": [
      "\tcorr[8,3] = 1.333417\n\tj = 3, Time: 596.8329508304596s\n"
     ]
    },
    {
     "name": "stdout",
     "output_type": "stream",
     "text": [
      "\tcorr[8,4] = 4.071520\n\tj = 4, Time: 620.6144578456879s\n"
     ]
    },
    {
     "name": "stdout",
     "output_type": "stream",
     "text": [
      "\tcorr[8,5] = 11.782304\n\tj = 5, Time: 647.9912598133087s\n"
     ]
    },
    {
     "name": "stdout",
     "output_type": "stream",
     "text": [
      "\tcorr[8,6] = 9.909227\n\tj = 6, Time: 673.5130310058594s\n"
     ]
    },
    {
     "name": "stdout",
     "output_type": "stream",
     "text": [
      "\tcorr[8,7] = 10.593205\n\tj = 7, Time: 707.5986490249634s\ni = 9\n"
     ]
    },
    {
     "name": "stdout",
     "output_type": "stream",
     "text": [
      "\tcorr[9,0] = 0.214562\n\tj = 0, Time: 725.5447728633881s\n"
     ]
    },
    {
     "name": "stdout",
     "output_type": "stream",
     "text": [
      "\tcorr[9,1] = 2.694942\n\tj = 1, Time: 737.480829000473s\n"
     ]
    },
    {
     "name": "stdout",
     "output_type": "stream",
     "text": [
      "\tcorr[9,2] = 0.252222\n\tj = 2, Time: 746.3973829746246s\n"
     ]
    },
    {
     "name": "stdout",
     "output_type": "stream",
     "text": [
      "\tcorr[9,3] = 0.129684\n\tj = 3, Time: 758.7113080024719s\n"
     ]
    },
    {
     "name": "stdout",
     "output_type": "stream",
     "text": [
      "\tcorr[9,4] = 2.077760\n\tj = 4, Time: 771.4968919754028s\n"
     ]
    },
    {
     "name": "stdout",
     "output_type": "stream",
     "text": [
      "\tcorr[9,5] = 2.508223\n\tj = 5, Time: 789.9318859577179s\n"
     ]
    },
    {
     "name": "stdout",
     "output_type": "stream",
     "text": [
      "\tcorr[9,6] = 0.393487\n\tj = 6, Time: 809.6221318244934s\n"
     ]
    },
    {
     "name": "stdout",
     "output_type": "stream",
     "text": [
      "\tcorr[9,7] = 0.622017\n\tj = 7, Time: 832.1987628936768s\n"
     ]
    },
    {
     "name": "stdout",
     "output_type": "stream",
     "text": [
      "\tcorr[9,8] = 2.282214\n\tj = 8, Time: 851.8001120090485s\ni = 10\n"
     ]
    },
    {
     "name": "stdout",
     "output_type": "stream",
     "text": [
      "\tcorr[10,0] = 0.745326\n\tj = 0, Time: 875.3770868778229s\n"
     ]
    },
    {
     "name": "stdout",
     "output_type": "stream",
     "text": [
      "\tcorr[10,1] = 2.315490\n\tj = 1, Time: 892.8640580177307s\n"
     ]
    },
    {
     "name": "stdout",
     "output_type": "stream",
     "text": [
      "\tcorr[10,2] = 0.128613\n\tj = 2, Time: 907.7903099060059s\n"
     ]
    },
    {
     "name": "stdout",
     "output_type": "stream",
     "text": [
      "\tcorr[10,3] = 2.482205\n\tj = 3, Time: 923.1040070056915s\n"
     ]
    },
    {
     "name": "stdout",
     "output_type": "stream",
     "text": [
      "\tcorr[10,4] = 1.738172\n\tj = 4, Time: 940.7648448944092s\n"
     ]
    },
    {
     "name": "stdout",
     "output_type": "stream",
     "text": [
      "\tcorr[10,5] = 2.903385\n\tj = 5, Time: 963.163489818573s\n"
     ]
    },
    {
     "name": "stdout",
     "output_type": "stream",
     "text": [
      "\tcorr[10,6] = 0.871799\n\tj = 6, Time: 984.7562308311462s\n"
     ]
    },
    {
     "name": "stdout",
     "output_type": "stream",
     "text": [
      "\tcorr[10,7] = 2.849634\n\tj = 7, Time: 1006.5179448127747s\n"
     ]
    },
    {
     "name": "stdout",
     "output_type": "stream",
     "text": [
      "\tcorr[10,8] = 3.263069\n\tj = 8, Time: 1031.0841329097748s\n"
     ]
    },
    {
     "name": "stdout",
     "output_type": "stream",
     "text": [
      "\tcorr[10,9] = 2.271607\n\tj = 9, Time: 1047.3016619682312s\ni = 11\n"
     ]
    },
    {
     "name": "stdout",
     "output_type": "stream",
     "text": [
      "\tcorr[11,0] = 0.559535\n\tj = 0, Time: 1068.6034939289093s\n"
     ]
    },
    {
     "name": "stdout",
     "output_type": "stream",
     "text": [
      "\tcorr[11,1] = 2.791574\n\tj = 1, Time: 1082.6350648403168s\n"
     ]
    },
    {
     "name": "stdout",
     "output_type": "stream",
     "text": [
      "\tcorr[11,2] = 0.156404\n\tj = 2, Time: 1094.989531993866s\n"
     ]
    },
    {
     "name": "stdout",
     "output_type": "stream",
     "text": [
      "\tcorr[11,3] = 0.141420\n\tj = 3, Time: 1110.5333089828491s\n"
     ]
    },
    {
     "name": "stdout",
     "output_type": "stream",
     "text": [
      "\tcorr[11,4] = 4.132473\n\tj = 4, Time: 1124.4594678878784s\n"
     ]
    },
    {
     "name": "stdout",
     "output_type": "stream",
     "text": [
      "\tcorr[11,5] = 2.902319\n\tj = 5, Time: 1145.7251148223877s\n"
     ]
    },
    {
     "name": "stdout",
     "output_type": "stream",
     "text": [
      "\tcorr[11,6] = 0.682439\n\tj = 6, Time: 1166.1550538539886s\n"
     ]
    },
    {
     "name": "stdout",
     "output_type": "stream",
     "text": [
      "\tcorr[11,7] = 1.511228\n\tj = 7, Time: 1188.9396839141846s\n"
     ]
    },
    {
     "name": "stdout",
     "output_type": "stream",
     "text": [
      "\tcorr[11,8] = 4.247372\n\tj = 8, Time: 1210.8444528579712s\n"
     ]
    },
    {
     "name": "stdout",
     "output_type": "stream",
     "text": [
      "\tcorr[11,9] = 2.721779\n\tj = 9, Time: 1225.0225830078125s\n"
     ]
    },
    {
     "name": "stdout",
     "output_type": "stream",
     "text": [
      "\tcorr[11,10] = 2.338073\n\tj = 10, Time: 1241.667732000351s\ni = 12\n"
     ]
    },
    {
     "name": "stdout",
     "output_type": "stream",
     "text": [
      "\tcorr[12,0] = 0.584258\n\tj = 0, Time: 1258.0509040355682s\n"
     ]
    },
    {
     "name": "stdout",
     "output_type": "stream",
     "text": [
      "\tcorr[12,1] = 0.122524\n\tj = 1, Time: 1270.4074449539185s\n"
     ]
    },
    {
     "name": "stdout",
     "output_type": "stream",
     "text": [
      "\tcorr[12,2] = 0.262634\n\tj = 2, Time: 1279.3410739898682s\n"
     ]
    },
    {
     "name": "stdout",
     "output_type": "stream",
     "text": [
      "\tcorr[12,3] = 2.858874\n\tj = 3, Time: 1289.3111448287964s\n"
     ]
    },
    {
     "name": "stdout",
     "output_type": "stream",
     "text": [
      "\tcorr[12,4] = 0.128664\n\tj = 4, Time: 1302.8733730316162s\n"
     ]
    },
    {
     "name": "stdout",
     "output_type": "stream",
     "text": [
      "\tcorr[12,5] = 0.896290\n\tj = 5, Time: 1322.0433309078217s\n"
     ]
    },
    {
     "name": "stdout",
     "output_type": "stream",
     "text": [
      "\tcorr[12,6] = 0.778135\n\tj = 6, Time: 1338.6742038726807s\n"
     ]
    },
    {
     "name": "stdout",
     "output_type": "stream",
     "text": [
      "\tcorr[12,7] = 2.828104\n\tj = 7, Time: 1355.3457458019257s\n"
     ]
    },
    {
     "name": "stdout",
     "output_type": "stream",
     "text": [
      "\tcorr[12,8] = 1.408420\n\tj = 8, Time: 1376.1367619037628s\n"
     ]
    },
    {
     "name": "stdout",
     "output_type": "stream",
     "text": [
      "\tcorr[12,9] = 0.208827\n\tj = 9, Time: 1389.0147519111633s\n"
     ]
    },
    {
     "name": "stdout",
     "output_type": "stream",
     "text": [
      "\tcorr[12,10] = 2.421129\n\tj = 10, Time: 1402.8060820102692s\n"
     ]
    },
    {
     "name": "stdout",
     "output_type": "stream",
     "text": [
      "\tcorr[12,11] = 0.165438\n\tj = 11, Time: 1417.2756559848785s\ni = 13\n"
     ]
    },
    {
     "name": "stdout",
     "output_type": "stream",
     "text": [
      "\tcorr[13,0] = 0.469576\n\tj = 0, Time: 1436.4589529037476s\n"
     ]
    },
    {
     "name": "stdout",
     "output_type": "stream",
     "text": [
      "\tcorr[13,1] = 2.148508\n\tj = 1, Time: 1449.6879878044128s\n"
     ]
    },
    {
     "name": "stdout",
     "output_type": "stream",
     "text": [
      "\tcorr[13,2] = 0.334198\n\tj = 2, Time: 1460.4253559112549s\n"
     ]
    },
    {
     "name": "stdout",
     "output_type": "stream",
     "text": [
      "\tcorr[13,3] = 0.158276\n\tj = 3, Time: 1474.703701019287s\n"
     ]
    },
    {
     "name": "stdout",
     "output_type": "stream",
     "text": [
      "\tcorr[13,4] = 4.110659\n\tj = 4, Time: 1487.55428481102s\n"
     ]
    },
    {
     "name": "stdout",
     "output_type": "stream",
     "text": [
      "\tcorr[13,5] = 2.365925\n\tj = 5, Time: 1508.2935538291931s\n"
     ]
    },
    {
     "name": "stdout",
     "output_type": "stream",
     "text": [
      "\tcorr[13,6] = 0.691222\n\tj = 6, Time: 1527.4197080135345s\n"
     ]
    },
    {
     "name": "stdout",
     "output_type": "stream",
     "text": [
      "\tcorr[13,7] = 1.270385\n\tj = 7, Time: 1549.123095035553s\n"
     ]
    },
    {
     "name": "stdout",
     "output_type": "stream",
     "text": [
      "\tcorr[13,8] = 4.145979\n\tj = 8, Time: 1569.8198268413544s\n"
     ]
    },
    {
     "name": "stdout",
     "output_type": "stream",
     "text": [
      "\tcorr[13,9] = 2.276364\n\tj = 9, Time: 1583.6751868724823s\n"
     ]
    },
    {
     "name": "stdout",
     "output_type": "stream",
     "text": [
      "\tcorr[13,10] = 1.784019\n\tj = 10, Time: 1600.1543040275574s\n"
     ]
    },
    {
     "name": "stdout",
     "output_type": "stream",
     "text": [
      "\tcorr[13,11] = 4.139306\n\tj = 11, Time: 1615.0219628810883s\n"
     ]
    },
    {
     "name": "stdout",
     "output_type": "stream",
     "text": [
      "\tcorr[13,12] = 0.278201\n\tj = 12, Time: 1630.2887778282166s\ni = 14\n"
     ]
    },
    {
     "name": "stdout",
     "output_type": "stream",
     "text": [
      "\tcorr[14,0] = 1.565925\n\tj = 0, Time: 1653.819000005722s\n"
     ]
    },
    {
     "name": "stdout",
     "output_type": "stream",
     "text": [
      "\tcorr[14,1] = 2.071395\n\tj = 1, Time: 1669.6829438209534s\n"
     ]
    },
    {
     "name": "stdout",
     "output_type": "stream",
     "text": [
      "\tcorr[14,2] = 0.161386\n\tj = 2, Time: 1684.164717912674s\n"
     ]
    },
    {
     "name": "stdout",
     "output_type": "stream",
     "text": [
      "\tcorr[14,3] = 2.866709\n\tj = 3, Time: 1699.668293952942s\n"
     ]
    },
    {
     "name": "stdout",
     "output_type": "stream",
     "text": [
      "\tcorr[14,4] = 4.038060\n\tj = 4, Time: 1715.6946318149567s\n"
     ]
    },
    {
     "name": "stdout",
     "output_type": "stream",
     "text": [
      "\tcorr[14,5] = 3.637262\n\tj = 5, Time: 1741.040864944458s\n"
     ]
    },
    {
     "name": "stdout",
     "output_type": "stream",
     "text": [
      "\tcorr[14,6] = 1.720475\n\tj = 6, Time: 1764.4587759971619s\n"
     ]
    },
    {
     "name": "stdout",
     "output_type": "stream",
     "text": [
      "\tcorr[14,7] = 3.838852\n\tj = 7, Time: 1788.0319340229034s\n"
     ]
    },
    {
     "name": "stdout",
     "output_type": "stream",
     "text": [
      "\tcorr[14,8] = 5.236295\n\tj = 8, Time: 1813.013149023056s\n"
     ]
    },
    {
     "name": "stdout",
     "output_type": "stream",
     "text": [
      "\tcorr[14,9] = 2.047957\n\tj = 9, Time: 1829.5826489925385s\n"
     ]
    },
    {
     "name": "stdout",
     "output_type": "stream",
     "text": [
      "\tcorr[14,10] = 4.429860\n\tj = 10, Time: 1847.2745199203491s\n"
     ]
    },
    {
     "name": "stdout",
     "output_type": "stream",
     "text": [
      "\tcorr[14,11] = 4.061251\n\tj = 11, Time: 1864.2300198078156s\n"
     ]
    },
    {
     "name": "stdout",
     "output_type": "stream",
     "text": [
      "\tcorr[14,12] = 2.800199\n\tj = 12, Time: 1880.5917418003082s\n"
     ]
    },
    {
     "name": "stdout",
     "output_type": "stream",
     "text": [
      "\tcorr[14,13] = 4.064841\n\tj = 13, Time: 1897.8726580142975s\ni = 15\n"
     ]
    },
    {
     "name": "stdout",
     "output_type": "stream",
     "text": [
      "\tcorr[15,0] = 0.142115\n\tj = 0, Time: 1909.41255402565s\n"
     ]
    },
    {
     "name": "stdout",
     "output_type": "stream",
     "text": [
      "\tcorr[15,1] = 0.012993\n\tj = 1, Time: 1916.7231969833374s\n"
     ]
    },
    {
     "name": "stdout",
     "output_type": "stream",
     "text": [
      "\tcorr[15,2] = 0.006727\n\tj = 2, Time: 1921.3296208381653s\n"
     ]
    },
    {
     "name": "stdout",
     "output_type": "stream",
     "text": [
      "\tcorr[15,3] = 0.003573\n\tj = 3, Time: 1928.3057298660278s\n"
     ]
    },
    {
     "name": "stdout",
     "output_type": "stream",
     "text": [
      "\tcorr[15,4] = 0.025419\n\tj = 4, Time: 1936.6767718791962s\n"
     ]
    },
    {
     "name": "stdout",
     "output_type": "stream",
     "text": [
      "\tcorr[15,5] = 0.234115\n\tj = 5, Time: 1950.5016729831696s\n"
     ]
    },
    {
     "name": "stdout",
     "output_type": "stream",
     "text": [
      "\tcorr[15,6] = 0.157487\n\tj = 6, Time: 1962.538568019867s\n"
     ]
    },
    {
     "name": "stdout",
     "output_type": "stream",
     "text": [
      "\tcorr[15,7] = 0.594742\n\tj = 7, Time: 1975.362450838089s\n"
     ]
    },
    {
     "name": "stdout",
     "output_type": "stream",
     "text": [
      "\tcorr[15,8] = 0.508010\n\tj = 8, Time: 1991.2498269081116s\n"
     ]
    },
    {
     "name": "stdout",
     "output_type": "stream",
     "text": [
      "\tcorr[15,9] = 0.015337\n\tj = 9, Time: 1998.887034893036s\n"
     ]
    },
    {
     "name": "stdout",
     "output_type": "stream",
     "text": [
      "\tcorr[15,10] = 0.011411\n\tj = 10, Time: 2008.5785768032074s\n"
     ]
    },
    {
     "name": "stdout",
     "output_type": "stream",
     "text": [
      "\tcorr[15,11] = 0.045308\n\tj = 11, Time: 2017.965204000473s\n"
     ]
    },
    {
     "name": "stdout",
     "output_type": "stream",
     "text": [
      "\tcorr[15,12] = 0.006200\n\tj = 12, Time: 2025.567221879959s\n"
     ]
    },
    {
     "name": "stdout",
     "output_type": "stream",
     "text": [
      "\tcorr[15,13] = 0.029062\n\tj = 13, Time: 2035.3880088329315s\n"
     ]
    },
    {
     "name": "stdout",
     "output_type": "stream",
     "text": [
      "\tcorr[15,14] = 0.028477\n\tj = 14, Time: 2046.252748966217s\nTime: 2046.2542610168457s\n"
     ]
    }
   ],
   "source": [
    "import sklearn.metrics as mr\n",
    "\n",
    "start_time = time.time()\n",
    "correlations = np.zeros((feaures_sum, feaures_sum))\n",
    "for i in range(feaures_sum):\n",
    "    print(\"i = \" + str(i))\n",
    "    for j in range(i):\n",
    "        correlations[i, j] = mr.mutual_info_score(df[names[i]], df[names[j]])\n",
    "        print(\"\\tcorr[%d,%d] = %f\" % (i, j, correlations[i, j]))\n",
    "        print(\"\\tj = \" + str(j) + \", Time: \" + str(time.time() - start_time) + \"s\")\n",
    "\n",
    "# correlations_df.to_csv(path + 'corr/mi/corr_extended.csv')\n",
    "print(\"Time: \" + str(time.time() - start_time) + \"s\")"
   ]
  },
  {
   "cell_type": "code",
   "execution_count": 29,
   "metadata": {},
   "outputs": [],
   "source": [
    "info_df = pd.DataFrame(index=names)\n",
    "for i in range(len(names)):\n",
    "    info_df[names[i]] = correlations[:,i]\n",
    "info_df.to_csv(path+'corr/mi/mutual_info.csv')"
   ]
  },
  {
   "cell_type": "markdown",
   "metadata": {},
   "source": [
    "# 计算条件熵"
   ]
  },
  {
   "cell_type": "code",
   "execution_count": 1,
   "metadata": {},
   "outputs": [
    {
     "name": "stdout",
     "output_type": "stream",
     "text": [
      "\n--------------------\nTime: 24.197429895401s\n"
     ]
    }
   ],
   "source": [
    "# todo：计算条件熵，归一化公式为 I(X;Y) / ( H(X) + H(Y) - I(X;Y) )\n",
    "import pandas as pd\n",
    "import numpy as np\n",
    "import time\n",
    "import gc\n",
    "from sklearn.preprocessing import PolynomialFeatures\n",
    "\n",
    "df = pd.read_csv('me/data/test.csv')\n",
    "\n",
    "start_time = time.time()\n",
    "\n",
    "basic_list = ['ip', 'app', 'device', 'os', 'channel']\n",
    "basic_df = df[basic_list]\n",
    "basic_array = basic_df.as_matrix()\n",
    "\n",
    "poly = PolynomialFeatures(2, interaction_only=True)\n",
    "extended_array = poly.fit_transform(basic_array)\n",
    "\n",
    "features_name = basic_list.copy()\n",
    "new_feature_name = []\n",
    "# 编号为1，2，3，4，5\n",
    "# 则组合顺序为：1., 1,2,3,4,5, 12,13,14,15, 23,24,25, 34,35, 45\n",
    "# 索引：从6-15\n",
    "for i in range(len(basic_list)):\n",
    "    for j in range(i + 1, len(basic_list)):\n",
    "        new_feature_name.append(basic_list[i] + '_' + basic_list[j])\n",
    "        features_name.append(basic_list[i] + '_' + basic_list[j])\n",
    "\n",
    "new_data = []\n",
    "for i in range(6, 16):\n",
    "    new_data.append(extended_array[:, i])\n",
    "\n",
    "for i in range(10):\n",
    "    df[new_feature_name[i]] = new_data[i]\n",
    "\n",
    "df['hour'] = pd.to_datetime(df.click_time).dt.hour.astype('uint8')\n",
    "features_name.append('hour')\n",
    "features_sum = len(features_name)\n",
    "\n",
    "print()\n",
    "print(\"--------------------\")\n",
    "print(\"Time: \" + str(time.time() - start_time) + \"s\")"
   ]
  },
  {
   "cell_type": "code",
   "execution_count": 2,
   "metadata": {},
   "outputs": [],
   "source": [
    "path = 'doc/corr/'\n",
    "mi_df = pd.read_csv(path+'mi/mutual_info.csv',index_col=0)\n",
    "mi_array = mi_df.as_matrix()\n",
    "correlations = np.zeros(mi_array.shape)"
   ]
  },
  {
   "cell_type": "code",
   "execution_count": 3,
   "metadata": {},
   "outputs": [],
   "source": [
    "def calc_ent(x):\n",
    "    \"\"\"\n",
    "        calculate shanno ent of x\n",
    "    \"\"\"\n",
    "    start_time = time.time()\n",
    "    x_value_list = set([x[i] for i in range(x.shape[0])])\n",
    "    ent = 0.0\n",
    "    for x_value in x_value_list:\n",
    "        p = float(x[x == x_value].shape[0]) / x.shape[0]\n",
    "        logp = np.log2(p)\n",
    "        ent -= p * logp\n",
    "    print(\"\\tTime of calc_ent:\" + str(time.time() - start_time) + \"s\")\n",
    "    return ent"
   ]
  },
  {
   "cell_type": "code",
   "execution_count": 2,
   "metadata": {},
   "outputs": [],
   "source": [
    "# start_time = time.time()\n",
    "# for i in range(features_sum):\n",
    "#     print(\"i = \" + str(i))\n",
    "#     for j in range(i):\n",
    "# #         h_x = calc_ent(df[features_name[i]].as_matrix())\n",
    "# #         h_y = calc_ent(df[features_name[j]].as_matrix())\n",
    "# #         correlations[i, j] = mi_array[i, j] / (h_x + h_y - mi_array[i, j])\n",
    "# #         print(\"\\tcorr[%d,%d] = %f\" % (i, j, correlations[i, j]))\n",
    "# #         print(\"\\tj = \" + str(j) + \", Time: \" + str(time.time() - start_time) + \"s\")\n",
    "# #         \n",
    "# # correlations_df = pd.DataFrame(index=features_name)\n",
    "# # for i in range(features_sum):\n",
    "# #     correlations_df[features_name[i]] = correlations[:,i]\n",
    "# # correlations_df.to_csv(path+'corr/mi/normalized_mi.csv')"
   ]
  },
  {
   "cell_type": "markdown",
   "metadata": {},
   "source": [
    "# 条件熵分析作图"
   ]
  },
  {
   "cell_type": "code",
   "execution_count": 7,
   "metadata": {},
   "outputs": [],
   "source": [
    "import pandas as pd\n",
    "import numpy as np\n",
    "\n",
    "correlations = pd.read_csv('doc/corr/mi/normalized_mi.csv', index_col=0)"
   ]
  },
  {
   "cell_type": "code",
   "execution_count": 46,
   "metadata": {},
   "outputs": [
    {
     "data": {
      "image/png": "[encoded data removed]",
      "text/plain": [
       "<matplotlib.figure.Figure at 0x113e738d0>"
      ]
     },
     "metadata": {},
     "output_type": "display_data"
    }
   ],
   "source": [
    "import seaborn as sns\n",
    "import matplotlib.pyplot as plt\n",
    "\n",
    "names = correlations.index.tolist()\n",
    "f, ax = plt.subplots(figsize = (10, 8))\n",
    "\n",
    "# method 1\n",
    "# cax = ax.matshow(correlations, vmin=-1, vmax=1)  # 绘制热力图，从-1到1\n",
    "# fig.colorbar(cax)  # 将matshow生成热力图设置为颜色渐变条\n",
    "\n",
    "# method 2\n",
    "cmap = sns.cubehelix_palette(start = 1.5, rot = 3, gamma=0.3, as_cmap = True)\n",
    "sns.heatmap(correlations, vmax=1, vmin=0, cmap=cmap, annot=False)\n",
    "\n",
    "\n",
    "ticks = np.arange(0, len(names), 1)  # 生成0-9，步长为1\n",
    "ax.set_xticks(ticks)  # 生成刻度\n",
    "ax.set_yticks(ticks)\n",
    "ax.set_xticklabels(names, rotation='vertical')  # 生成x轴标签\n",
    "ax.set_yticklabels(names)\n",
    "\n",
    "plt.savefig('doc/corr/mi/corr_all.png')\n",
    "plt.show()"
   ]
  },
  {
   "cell_type": "code",
   "execution_count": 47,
   "metadata": {},
   "outputs": [
    {
     "data": {
      "image/png": "[encoded data removed]",
      "text/plain": [
       "<matplotlib.figure.Figure at 0x1137b5390>"
      ]
     },
     "metadata": {},
     "output_type": "display_data"
    }
   ],
   "source": [
    "import seaborn as sns\n",
    "import matplotlib.pyplot as plt\n",
    "\n",
    "names = correlations.index.tolist()\n",
    "f, ax = plt.subplots(figsize = (10, 8))\n",
    "\n",
    "# method 1\n",
    "# cax = ax.matshow(correlations, vmin=-1, vmax=1)  # 绘制热力图，从-1到1\n",
    "# fig.colorbar(cax)  # 将matshow生成热力图设置为颜色渐变条\n",
    "\n",
    "# method 2\n",
    "cmap = sns.cubehelix_palette(start = 1.5, rot = 3, gamma=0.3, as_cmap = True)\n",
    "sns.heatmap(correlations, vmax=1, vmin=0, cmap=cmap, \n",
    "            annot=True, mask=correlations<0.05)\n",
    "\n",
    "\n",
    "ticks = np.arange(0, len(names), 1)  # 生成0-9，步长为1\n",
    "ax.set_xticks(ticks)  # 生成刻度\n",
    "ax.set_yticks(ticks)\n",
    "ax.set_xticklabels(names, rotation='vertical')  # 生成x轴标签\n",
    "ax.set_yticklabels(names)\n",
    "\n",
    "plt.savefig('doc/corr/mi/corr_mask0.05.png')\n",
    "plt.show()"
   ]
  },
  {
   "cell_type": "code",
   "execution_count": 30,
   "metadata": {},
   "outputs": [],
   "source": [
    ""
   ]
  },
  {
   "cell_type": "code",
   "execution_count": 30,
   "metadata": {},
   "outputs": [],
   "source": [
    ""
   ]
  },
  {
   "cell_type": "code",
   "execution_count": 30,
   "metadata": {},
   "outputs": [],
   "source": [
    ""
   ]
  },
  {
   "cell_type": "code",
   "execution_count": null,
   "metadata": {},
   "outputs": [],
   "source": [
    ""
   ]
  }
 ],
 "metadata": {
  "kernelspec": {
   "display_name": "Python 2",
   "language": "python",
   "name": "python2"
  },
  "language_info": {
   "codemirror_mode": {
    "name": "ipython",
    "version": 2.0
   },
   "file_extension": ".py",
   "mimetype": "text/x-python",
   "name": "python",
   "nbconvert_exporter": "python",
   "pygments_lexer": "ipython2",
   "version": "2.7.6"
  }
 },
 "nbformat": 4,
 "nbformat_minor": 0
}